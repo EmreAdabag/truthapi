{
 "cells": [
  {
   "cell_type": "code",
   "execution_count": 1,
   "metadata": {},
   "outputs": [],
   "source": [
    "import os\n",
    "from truth import TruthAPI"
   ]
  },
  {
   "cell_type": "code",
   "execution_count": 3,
   "metadata": {},
   "outputs": [],
   "source": [
    "truth_username = os.environ.get('TRUTH_EMAIL')\n",
    "truth_pass = os.environ.get('TRUTH_PASS')"
   ]
  },
  {
   "cell_type": "code",
   "execution_count": 4,
   "metadata": {},
   "outputs": [],
   "source": [
    "truth = TruthAPI()"
   ]
  },
  {
   "cell_type": "code",
   "execution_count": 5,
   "metadata": {},
   "outputs": [],
   "source": [
    "truth.login(truth_username, truth_pass)"
   ]
  },
  {
   "cell_type": "code",
   "execution_count": 6,
   "metadata": {},
   "outputs": [
    {
     "name": "stdout",
     "output_type": "stream",
     "text": [
      "{'id': '112329627037807609', 'user': 'realDonaldTrump', 'content': '<p>Wow! Former A.G. Bill Barr, who let a lot of great people down by not investigating Voter Fraud in our Country, has just Endorsed me for President despite the fact that I called him “Weak, Slow Moving, Lethargic, Gutless, and Lazy” (New York Post!). Based on the fact that I greatly appreciate his wholehearted Endorsement, I am removing the word “Lethargic” from my statement. Thank you Bill. MAGA2024!</p>'}\n"
     ]
    }
   ],
   "source": [
    "t_truths = truth.get_trump_truths()\n",
    "print(t_truths[0])"
   ]
  },
  {
   "cell_type": "code",
   "execution_count": 10,
   "metadata": {},
   "outputs": [
    {
     "name": "stdout",
     "output_type": "stream",
     "text": [
      "112329627037807609\n",
      "\n",
      "realDonaldTrump\n",
      "\n",
      "<p>Wow! Former A.G. Bill Barr, who let a lot of great people down by not investigating Voter Fraud in our Country, has just Endorsed me for President despite the fact that I called him “Weak, Slow Moving, Lethargic, Gutless, and Lazy” (New York Post!). Based on the fact that I greatly appreciate his wholehearted Endorsement, I am removing the word “Lethargic” from my statement. Thank you Bill. MAGA2024!</p>\n",
      "\n"
     ]
    }
   ],
   "source": [
    "print(f\"{t_truths[0]['id']}\\n\")\n",
    "print(f\"{t_truths[0]['user']}\\n\")\n",
    "print(f\"{t_truths[0]['content']}\\n\")"
   ]
  },
  {
   "cell_type": "code",
   "execution_count": 11,
   "metadata": {},
   "outputs": [],
   "source": [
    "truth_id = t_truths[0]['id']\n",
    "truther = t_truths[0]['user']\n",
    "reply = 'thank you donald, very cool \\U0001F525'\n",
    "\n",
    "truth.truth_reply(truth_id, truther, reply)"
   ]
  }
 ],
 "metadata": {
  "kernelspec": {
   "display_name": "venv",
   "language": "python",
   "name": "python3"
  },
  "language_info": {
   "codemirror_mode": {
    "name": "ipython",
    "version": 3
   },
   "file_extension": ".py",
   "mimetype": "text/x-python",
   "name": "python",
   "nbconvert_exporter": "python",
   "pygments_lexer": "ipython3",
   "version": "3.11.7"
  }
 },
 "nbformat": 4,
 "nbformat_minor": 2
}
